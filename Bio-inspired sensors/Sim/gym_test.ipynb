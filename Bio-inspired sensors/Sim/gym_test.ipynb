{
 "cells": [
  {
   "attachments": {},
   "cell_type": "markdown",
   "metadata": {},
   "source": [
    "Testing the tactile gym"
   ]
  },
  {
   "cell_type": "code",
   "execution_count": 1,
   "metadata": {},
   "outputs": [
    {
     "name": "stderr",
     "output_type": "stream",
     "text": [
      "pybullet build time: Jan 20 2023 16:26:58\n"
     ]
    }
   ],
   "source": [
    "from tactile_gym.rl_envs.demo_rl_env_base import demo_rl_env\n",
    "from tactile_gym.rl_envs.exploration.edge_follow.edge_follow_env import EdgeFollowEnv\n",
    "from scipy import signal\n",
    "from scipy import misc\n",
    "\n",
    "import numpy as np\n",
    "import copy\n",
    "import cv2\n",
    "import matplotlib.pyplot as plt\n",
    "\n",
    "import torch\n",
    "import random as rnd\n",
    "from IPython.display import clear_output "
   ]
  },
  {
   "attachments": {},
   "cell_type": "markdown",
   "metadata": {},
   "source": [
    "First we set up some variables of what we want within the envirnment. \n",
    "\n",
    "Number of iterations is how long our training loop will be\n",
    "\n",
    "max_steps is how many steps each iteration can ake within the environment\n",
    "\n",
    "show_gui allows us to view or not view a gui showing whats going on\n",
    "\n",
    "This is the same with show tactle\n",
    "\n",
    "Rendering is required for showing the gui - it is quicker without\n",
    "\n"
   ]
  },
  {
   "cell_type": "code",
   "execution_count": 2,
   "metadata": {},
   "outputs": [],
   "source": [
    "\n",
    "seed = int(0)\n",
    "num_iter = 100\n",
    "max_steps = 250\n",
    "show_gui = True\n",
    "show_tactile = True\n",
    "render = True\n",
    "print_info = False\n",
    "image_size = [128, 128]\n"
   ]
  },
  {
   "attachments": {},
   "cell_type": "markdown",
   "metadata": {},
   "source": [
    "Set up the environment"
   ]
  },
  {
   "cell_type": "code",
   "execution_count": 3,
   "metadata": {},
   "outputs": [
    {
     "name": "stdout",
     "output_type": "stream",
     "text": [
      "argv[0]=\n",
      "startThreads creating 1 threads.\n",
      "starting thread 0\n",
      "started thread 0 \n",
      "argc=3\n",
      "argv[0] = --unused\n",
      "argv[1] = \n",
      "argv[2] = --start_demo_name=Physics Server\n",
      "ExampleBrowserThreadFunc started\n",
      "X11 functions dynamically loaded using dlopen/dlsym OK!\n",
      "X11 functions dynamically loaded using dlopen/dlsym OK!\n",
      "Creating context\n",
      "Created GL 3.3 context\n",
      "Direct GLX rendering context obtained\n",
      "Making context current\n",
      "GL_VENDOR=Mesa/X.org\n",
      "GL_RENDERER=llvmpipe (LLVM 12.0.0, 256 bits)\n",
      "GL_VERSION=4.5 (Core Profile) Mesa 21.2.6\n",
      "GL_SHADING_LANGUAGE_VERSION=4.50\n",
      "pthread_getconcurrency()=0\n",
      "Version = 4.5 (Core Profile) Mesa 21.2.6\n",
      "Vendor = Mesa/X.org\n",
      "Renderer = llvmpipe (LLVM 12.0.0, 256 bits)\n",
      "b3Printf: Selected demo: Physics Server\n",
      "startThreads creating 1 threads.\n",
      "starting thread 0\n",
      "started thread 0 \n",
      "MotionThreadFunc thread started\n",
      "ven = Mesa/X.org\n",
      "ven = Mesa/X.org\n"
     ]
    }
   ],
   "source": [
    "env_modes = {\n",
    "    # which dofs can have movement\n",
    "    \"movement_mode\": \"xy\",\n",
    "\n",
    "    # specify arm\n",
    "    \"arm_type\": \"ur5\",\n",
    "\n",
    "    # specify tactile sensor\n",
    "    \"tactile_sensor_name\": \"tactip\",\n",
    "    # \"tactile_sensor_name\": \"digit\",\n",
    "    # \"tactile_sensor_name\": \"digitac\",\n",
    "\n",
    "    # the type of control used\n",
    "    # \"control_mode\": \"TCP_position_control\",\n",
    "    'control_mode': 'TCP_velocity_control',\n",
    "\n",
    "    # add variation to embed distance to optimise for\n",
    "    # warning, don't use rand height when controlling z unless\n",
    "    # including embed distance in observation\n",
    "    # 'noise_mode':'fixed_height',\n",
    "    \"noise_mode\": \"rand_height\",\n",
    "\n",
    "    # which observation type to return\n",
    "    'observation_mode': 'oracle',\n",
    "    \"observation_mode\": \"tactile\",\n",
    "    # 'observation_mode':'visual',\n",
    "    # 'observation_mode':'visuotactile',\n",
    "\n",
    "    # which reward type to use (currently only dense)\n",
    "    \"reward_mode\": \"dense\"\n",
    "    # 'reward_mode':'sparse'\n",
    "}\n",
    "env = EdgeFollowEnv(\n",
    "    max_steps=max_steps,\n",
    "    env_modes=env_modes,\n",
    "    show_gui=show_gui,\n",
    "    show_tactile=show_tactile,\n",
    "    image_size=image_size\n",
    ")\n",
    "\n",
    "# set seed for deterministic results\n",
    "env.seed(seed)\n",
    "env.action_space.np_random.seed(seed)\n"
   ]
  },
  {
   "attachments": {},
   "cell_type": "markdown",
   "metadata": {},
   "source": [
    "Activate GUI is selected"
   ]
  },
  {
   "cell_type": "code",
   "execution_count": 4,
   "metadata": {},
   "outputs": [],
   "source": [
    "# create controllable parameters on GUI\n",
    "action_ids = []\n",
    "min_action = env.min_action\n",
    "max_action = env.max_action\n",
    "if show_gui:\n",
    "\n",
    "    if env_modes[\"movement_mode\"] == \"xy\":\n",
    "        action_ids.append(env._pb.addUserDebugParameter(\"dX\", min_action, max_action, 0))\n",
    "        action_ids.append(env._pb.addUserDebugParameter(\"dY\", min_action, max_action, 0))\n",
    "\n",
    "    elif env_modes[\"movement_mode\"] == \"xyz\":\n",
    "        action_ids.append(env._pb.addUserDebugParameter(\"dX\", min_action, max_action, 0))\n",
    "        action_ids.append(env._pb.addUserDebugParameter(\"dY\", min_action, max_action, 0))\n",
    "        action_ids.append(env._pb.addUserDebugParameter(\"dZ\", min_action, max_action, 0))\n",
    "\n",
    "    elif env_modes[\"movement_mode\"] == \"xyRz\":\n",
    "        action_ids.append(env._pb.addUserDebugParameter(\"dX\", min_action, max_action, 0))\n",
    "        action_ids.append(env._pb.addUserDebugParameter(\"dY\", min_action, max_action, 0))\n",
    "        action_ids.append(env._pb.addUserDebugParameter(\"dRz\", min_action, max_action, 0))\n",
    "\n",
    "    elif env_modes[\"movement_mode\"] == \"xyzRz\":\n",
    "        action_ids.append(env._pb.addUserDebugParameter(\"dX\", min_action, max_action, 0))\n",
    "        action_ids.append(env._pb.addUserDebugParameter(\"dY\", min_action, max_action, 0))\n",
    "        action_ids.append(env._pb.addUserDebugParameter(\"dZ\", min_action, max_action, 0))\n",
    "        action_ids.append(env._pb.addUserDebugParameter(\"dRz\", min_action, max_action, 0))\n",
    "\n",
    "# run the control loop\n",
    "#demo_rl_env(env, num_iter, action_ids, show_gui, show_tactile, render, print_info)"
   ]
  },
  {
   "attachments": {},
   "cell_type": "markdown",
   "metadata": {},
   "source": [
    "Make model for evolution, this uses a convolutional neural network. Weights are assigned randomly."
   ]
  },
  {
   "cell_type": "code",
   "execution_count": 5,
   "metadata": {},
   "outputs": [],
   "source": [
    "class Agent_Conv2D:\n",
    "    def __init__(self, num_input, layers, num_output):\n",
    "        assert type(layers)==type([]), \"Error with layers, give array of the number of layers\"\n",
    "        self.num_input = num_input  #set input number\n",
    "        self.num_output = num_output #set ooutput number\n",
    "        self.hidden=[]\n",
    "        last=num_input\n",
    "        self.num_genes=0\n",
    "        for layer in layers:\n",
    "            self.hidden.append(layer)\n",
    "            self.num_genes+=(last * layer)\n",
    "            last=layer\n",
    "        self.num_genes +=(self.hidden[-1]*num_output)+num_output\n",
    "        self.weights = None\n",
    "        self.hidden_weights=None\n",
    "        self.bias = None\n",
    "        print(\"Auto\",self.num_genes)\n",
    "    def set_genes(self, gene):\n",
    "        weight_idxs = self.num_input * self.hidden[0] #size of weights to hidden\n",
    "        current=weight_idxs\n",
    "        weights_idxs=[current] #start with end of last\n",
    "        for i in range(len(self.hidden)-1):\n",
    "            current+=self.hidden[i]*self.hidden[i+1] #calculate next idx for each layer\n",
    "            weights_idxs.append(current)\n",
    "        bias_idxs=None\n",
    "        weights_idxs.append(self.hidden[-1] * self.num_output + weights_idxs[-1]) #add last layer heading to output\n",
    "        bias_idxs = weights_idxs[-1]+ self.num_output #sizes of biases\n",
    "        w = gene[0 : weight_idxs].reshape(self.hidden[0], self.num_input)   #merge genes\n",
    "        ws=[]\n",
    "        for i in range(len(self.hidden)-1):\n",
    "            ws.append(gene[weights_idxs[i] : weights_idxs[i+1]].reshape(self.hidden[i+1], self.hidden[i]))\n",
    "        ws.append(gene[weights_idxs[-2] : weights_idxs[-1]].reshape(self.num_output, self.hidden[-1]))\n",
    "        b = gene[weights_idxs[-1]: bias_idxs].reshape(self.num_output,) #merge genes\n",
    "\n",
    "        self.weights = torch.from_numpy(w) #assign weights\n",
    "        self.hidden_weights=[]\n",
    "        for w in ws:\n",
    "            self.hidden_weights.append(torch.from_numpy(w))\n",
    "        self.bias = torch.from_numpy(b) #assign biases\n",
    "\n",
    "    def forward(self, x):\n",
    "        #create conv layer\n",
    "        scharr = np.array([[ -3-3, 0-10,  +3 -3],\n",
    "                   [-10+0, 0+ 0, +10 +0],\n",
    "                   [ -3+3, 0+10,  +3 +3]]) # Gx + j*Gy\n",
    "        x= signal.convolve2d(x, scharr, boundary='symm', mode='same')   \n",
    "        x=x.flatten()\n",
    "        x=torch.tensor(x[:,np.newaxis]).float()  \n",
    "        #x = torch.tensor(np.dot(self.weights.float(),x).flatten()).float()\n",
    "        #run through forward layers\n",
    "        x = torch.mm(x.T, self.weights.T.float()) #first layer\n",
    "\n",
    "        for i in range(len(self.hidden_weights)-1):\n",
    "            x = torch.mm(x,self.hidden_weights[i].T.float()) #second layer\n",
    "        x=torch.sigmoid(x)\n",
    "        return torch.mm(x,self.hidden_weights[-1].T.float()) + self.bias #third layer\n",
    "    \n",
    "    def get_action(self, x,vec):\n",
    "        vec=np.array(vec)\n",
    "        vectors=[(1,1),(1,0),(0,1),(-1,-1),(-1,0),(0,-1),(-1,1),(1,-1)] #possible moves\n",
    "        arr=list(self.forward(x,vec)[0])\n",
    "        ind=np.argmax(arr)\n",
    "        return vectors[ind]"
   ]
  },
  {
   "attachments": {},
   "cell_type": "markdown",
   "metadata": {},
   "source": [
    "create an agent and population of genes"
   ]
  },
  {
   "cell_type": "code",
   "execution_count": 6,
   "metadata": {},
   "outputs": [
    {
     "name": "stdout",
     "output_type": "stream",
     "text": [
      "Auto 17862\n",
      "[-3.117079 2.696457 -3.079562 ... 0.465490 1.035209 -0.685312]\n"
     ]
    }
   ],
   "source": [
    "sensor=Agent_Conv2D(10*10,[100,60,30],2)\n",
    "size=sensor.num_genes\n",
    "def gen_population(pop_size=25):\n",
    "    population=np.random.normal(0,3,(pop_size,size))\n",
    "    return population\n",
    "\"\"\"for i in range(pop_size):\n",
    "    population[i]+=(size))\"\"\"\n",
    "\n",
    "print(gen_population()[0])\n",
    "population=gen_population()"
   ]
  },
  {
   "attachments": {},
   "cell_type": "markdown",
   "metadata": {},
   "source": [
    "Fitness function and mutation of genes"
   ]
  },
  {
   "cell_type": "code",
   "execution_count": 17,
   "metadata": {},
   "outputs": [],
   "source": [
    "MASTER = cv2.imread(\"/its/home/drs25/Pictures/good.png\")\n",
    "MASTER = cv2.cvtColor(MASTER, cv2.COLOR_BGR2GRAY)\n",
    "MASTER = cv2.resize(MASTER, dsize=(10,10), interpolation=cv2.INTER_AREA) #rescale\n",
    "\n",
    "def get_similarity(img1,img2):\n",
    "    diff = cv2.absdiff(img1, img2)\n",
    "    return np.sum(diff)/(10*10*255)\n",
    "\n",
    "def new_fitness(tactile):\n",
    "    return get_similarity(MASTER,tactile)\n",
    "    \n",
    "def fitness(tactile):\n",
    "    #lets say we want to maximize the lighter pixels \n",
    "    all=np.sum(tactile)\n",
    "    all=(all/255)/(50*50)\n",
    "    return all\n",
    "def mutation(gene, mean=0, std=0.5,size=100):\n",
    "    assert size<len(gene)\n",
    "    n=rnd.randint(0,len(gene)-size-1)\n",
    "    array=np.random.normal(mean,std,size=size)\n",
    "    gene = gene[n:n+size] + array #mutate the gene via normal \n",
    "    # constraint\n",
    "    gene[gene >4] = 4\n",
    "    gene[gene < -4] = -4\n",
    "    return gene\n",
    "\n",
    "def crossover(loser, winner, p_crossover=0.5): #provide a crossover function\n",
    "    for i,gene in enumerate(winner):\n",
    "      if rnd.random() <= p_crossover:\n",
    "        loser[i] = winner[i]\n",
    "    return loser"
   ]
  },
  {
   "attachments": {},
   "cell_type": "markdown",
   "metadata": {},
   "source": [
    "show what agent sees"
   ]
  },
  {
   "cell_type": "code",
   "execution_count": 8,
   "metadata": {},
   "outputs": [
    {
     "data": {
      "image/png": "[encoded data removed]",
      "text/plain": [
       "<Figure size 640x480 with 1 Axes>"
      ]
     },
     "metadata": {},
     "output_type": "display_data"
    },
    {
     "data": {
      "image/png": "[encoded data removed]",
      "text/plain": [
       "<Figure size 640x480 with 1 Axes>"
      ]
     },
     "metadata": {},
     "output_type": "display_data"
    }
   ],
   "source": [
    "o, r, d, ep_ret, ep_len = env.reset(), 0, False, 0, 0\n",
    "tactile_input=np.reshape(o['tactile'],(128,128))\n",
    "tactile_input=cv2.resize(tactile_input, dsize=(10,10), interpolation=cv2.INTER_AREA) #rescale\n",
    "\n",
    "plt.title(\"Reduction\")\n",
    "plt.imshow(tactile_input)\n",
    "plt.show()\n",
    "\n",
    "img1 = cv2.imread(\"/its/home/drs25/Pictures/good.png\")\n",
    "img1 = cv2.resize(img1, dsize=(10,10), interpolation=cv2.INTER_AREA) #rescale\n",
    "\n",
    "plt.title(\"Reduction\")\n",
    "plt.imshow(img1)\n",
    "plt.show()"
   ]
  },
  {
   "attachments": {},
   "cell_type": "markdown",
   "metadata": {},
   "source": [
    "Applying the microbial GA algorithm"
   ]
  },
  {
   "cell_type": "code",
   "execution_count": 19,
   "metadata": {},
   "outputs": [
    {
     "name": "stdout",
     "output_type": "stream",
     "text": [
      "GEN:  38 REWARD:  0.00963581699346405\n"
     ]
    },
    {
     "ename": "KeyboardInterrupt",
     "evalue": "",
     "output_type": "error",
     "traceback": [
      "\u001b[0;31m---------------------------------------------------------------------------\u001b[0m",
      "\u001b[0;31mKeyboardInterrupt\u001b[0m                         Traceback (most recent call last)",
      "Cell \u001b[0;32mIn[19], line 68\u001b[0m\n\u001b[1;32m     66\u001b[0m GENERATIONS\u001b[39m=\u001b[39m\u001b[39m300\u001b[39m\n\u001b[1;32m     67\u001b[0m pop\u001b[39m=\u001b[39mgen_population()\n\u001b[0;32m---> 68\u001b[0m f,r,ind\u001b[39m=\u001b[39mrun_microbial(pop,GENERATIONS)\n",
      "Cell \u001b[0;32mIn[19], line 42\u001b[0m, in \u001b[0;36mrun_microbial\u001b[0;34m(population, generations)\u001b[0m\n\u001b[1;32m     40\u001b[0m f1\u001b[39m=\u001b[39m\u001b[39m0\u001b[39m\n\u001b[1;32m     41\u001b[0m \u001b[39mfor\u001b[39;00m i \u001b[39min\u001b[39;00m \u001b[39mrange\u001b[39m(\u001b[39m3\u001b[39m): \u001b[39m#run 3 trials to make sure there is no fluke\u001b[39;00m\n\u001b[0;32m---> 42\u001b[0m     f,r1\u001b[39m=\u001b[39mrun_trial(gene1,\u001b[39m3\u001b[39;49m)\n\u001b[1;32m     43\u001b[0m     f1\u001b[39m+\u001b[39m\u001b[39m=\u001b[39mf\n\u001b[1;32m     44\u001b[0m fit1\u001b[39m=\u001b[39mf1\u001b[39m/\u001b[39m\u001b[39m3\u001b[39m \u001b[39m#get average performance\u001b[39;00m\n",
      "Cell \u001b[0;32mIn[19], line 14\u001b[0m, in \u001b[0;36mrun_trial\u001b[0;34m(gene, max_t, save)\u001b[0m\n\u001b[1;32m     12\u001b[0m a\u001b[39m=\u001b[39mtorch\u001b[39m.\u001b[39msin(sensor\u001b[39m.\u001b[39mforward(tactile_input))[\u001b[39m0\u001b[39m] \u001b[39m#push through tactile input into agent\u001b[39;00m\n\u001b[1;32m     13\u001b[0m \u001b[39m# step the environment\u001b[39;00m\n\u001b[0;32m---> 14\u001b[0m o, r, d, info \u001b[39m=\u001b[39m env\u001b[39m.\u001b[39;49mstep(a) \u001b[39m#step through environment\u001b[39;00m\n\u001b[1;32m     15\u001b[0m \u001b[39m#print(a,env.action_space.sample())\u001b[39;00m\n\u001b[1;32m     16\u001b[0m fit\u001b[39m=\u001b[39mnew_fitness(tactile_input)\n",
      "File \u001b[0;32m/usr/local/lib/python3.8/dist-packages/tactile_gym-0.0.1-py3.8.egg/tactile_gym/rl_envs/base_tactile_env.py:183\u001b[0m, in \u001b[0;36mBaseTactileEnv.step\u001b[0;34m(self, action)\u001b[0m\n\u001b[1;32m    174\u001b[0m \u001b[39mself\u001b[39m\u001b[39m.\u001b[39mrobot\u001b[39m.\u001b[39mapply_action(\n\u001b[1;32m    175\u001b[0m     scaled_actions,\n\u001b[1;32m    176\u001b[0m     control_mode\u001b[39m=\u001b[39m\u001b[39mself\u001b[39m\u001b[39m.\u001b[39mcontrol_mode,\n\u001b[1;32m    177\u001b[0m     velocity_action_repeat\u001b[39m=\u001b[39m\u001b[39mself\u001b[39m\u001b[39m.\u001b[39m_velocity_action_repeat,\n\u001b[1;32m    178\u001b[0m     max_steps\u001b[39m=\u001b[39m\u001b[39mself\u001b[39m\u001b[39m.\u001b[39m_max_blocking_pos_move_steps,\n\u001b[1;32m    179\u001b[0m )\n\u001b[1;32m    181\u001b[0m reward, done \u001b[39m=\u001b[39m \u001b[39mself\u001b[39m\u001b[39m.\u001b[39mget_step_data()\n\u001b[0;32m--> 183\u001b[0m \u001b[39mself\u001b[39m\u001b[39m.\u001b[39m_observation \u001b[39m=\u001b[39m \u001b[39mself\u001b[39;49m\u001b[39m.\u001b[39;49mget_observation()\n\u001b[1;32m    185\u001b[0m \u001b[39mreturn\u001b[39;00m \u001b[39mself\u001b[39m\u001b[39m.\u001b[39m_observation, reward, done, {}\n",
      "File \u001b[0;32m/usr/local/lib/python3.8/dist-packages/tactile_gym-0.0.1-py3.8.egg/tactile_gym/rl_envs/base_tactile_env.py:272\u001b[0m, in \u001b[0;36mBaseTactileEnv.get_observation\u001b[0;34m(self)\u001b[0m\n\u001b[1;32m    270\u001b[0m \u001b[39m# observation is just the tactile sensor image\u001b[39;00m\n\u001b[1;32m    271\u001b[0m \u001b[39mif\u001b[39;00m \u001b[39m\"\u001b[39m\u001b[39mtactile\u001b[39m\u001b[39m\"\u001b[39m \u001b[39min\u001b[39;00m \u001b[39mself\u001b[39m\u001b[39m.\u001b[39mobservation_mode:\n\u001b[0;32m--> 272\u001b[0m     observation[\u001b[39m\"\u001b[39m\u001b[39mtactile\u001b[39m\u001b[39m\"\u001b[39m] \u001b[39m=\u001b[39m \u001b[39mself\u001b[39;49m\u001b[39m.\u001b[39;49mget_tactile_obs()\n\u001b[1;32m    274\u001b[0m \u001b[39m# observation is rgb environment camera image\u001b[39;00m\n\u001b[1;32m    275\u001b[0m \u001b[39mif\u001b[39;00m \u001b[39many\u001b[39m(obs \u001b[39min\u001b[39;00m \u001b[39mself\u001b[39m\u001b[39m.\u001b[39mobservation_mode \u001b[39mfor\u001b[39;00m obs \u001b[39min\u001b[39;00m [\u001b[39m\"\u001b[39m\u001b[39mvisual\u001b[39m\u001b[39m\"\u001b[39m, \u001b[39m\"\u001b[39m\u001b[39mvisuo\u001b[39m\u001b[39m\"\u001b[39m]):\n",
      "File \u001b[0;32m/usr/local/lib/python3.8/dist-packages/tactile_gym-0.0.1-py3.8.egg/tactile_gym/rl_envs/base_tactile_env.py:206\u001b[0m, in \u001b[0;36mBaseTactileEnv.get_tactile_obs\u001b[0;34m(self)\u001b[0m\n\u001b[1;32m    201\u001b[0m \u001b[39m\u001b[39m\u001b[39m\"\"\"\u001b[39;00m\n\u001b[1;32m    202\u001b[0m \u001b[39mReturns the tactile observation with an image channel.\u001b[39;00m\n\u001b[1;32m    203\u001b[0m \u001b[39m\"\"\"\u001b[39;00m\n\u001b[1;32m    205\u001b[0m \u001b[39m# get image from sensor\u001b[39;00m\n\u001b[0;32m--> 206\u001b[0m tactile_obs \u001b[39m=\u001b[39m \u001b[39mself\u001b[39;49m\u001b[39m.\u001b[39;49mrobot\u001b[39m.\u001b[39;49mget_tactile_observation()\n\u001b[1;32m    208\u001b[0m observation \u001b[39m=\u001b[39m tactile_obs[\u001b[39m.\u001b[39m\u001b[39m.\u001b[39m\u001b[39m.\u001b[39m, np\u001b[39m.\u001b[39mnewaxis]\n\u001b[1;32m    210\u001b[0m \u001b[39mreturn\u001b[39;00m observation\n",
      "File \u001b[0;32m/usr/local/lib/python3.8/dist-packages/tactile_gym-0.0.1-py3.8.egg/tactile_gym/robots/arms/robot.py:273\u001b[0m, in \u001b[0;36mRobot.get_tactile_observation\u001b[0;34m(self)\u001b[0m\n\u001b[1;32m    272\u001b[0m \u001b[39mdef\u001b[39;00m \u001b[39mget_tactile_observation\u001b[39m(\u001b[39mself\u001b[39m):\n\u001b[0;32m--> 273\u001b[0m     \u001b[39mreturn\u001b[39;00m \u001b[39mself\u001b[39;49m\u001b[39m.\u001b[39;49mt_s\u001b[39m.\u001b[39;49mget_observation()\n",
      "File \u001b[0;32m/usr/local/lib/python3.8/dist-packages/tactile_gym-0.0.1-py3.8.egg/tactile_gym/sensors/tactile_sensor.py:350\u001b[0m, in \u001b[0;36mTactileSensor.get_observation\u001b[0;34m(self)\u001b[0m\n\u001b[1;32m    349\u001b[0m \u001b[39mdef\u001b[39;00m \u001b[39mget_observation\u001b[39m(\u001b[39mself\u001b[39m):\n\u001b[0;32m--> 350\u001b[0m     \u001b[39mreturn\u001b[39;00m \u001b[39mself\u001b[39;49m\u001b[39m.\u001b[39;49mprocess_sensor()\n",
      "File \u001b[0;32m/usr/local/lib/python3.8/dist-packages/tactile_gym-0.0.1-py3.8.egg/tactile_gym/sensors/tactile_sensor.py:339\u001b[0m, in \u001b[0;36mTactileSensor.process_sensor\u001b[0;34m(self)\u001b[0m\n\u001b[1;32m    334\u001b[0m \u001b[39mdef\u001b[39;00m \u001b[39mprocess_sensor\u001b[39m(\u001b[39mself\u001b[39m):\n\u001b[1;32m    335\u001b[0m \u001b[39m    \u001b[39m\u001b[39m\"\"\"\u001b[39;00m\n\u001b[1;32m    336\u001b[0m \u001b[39m    Return an image captured by the sensor.\u001b[39;00m\n\u001b[1;32m    337\u001b[0m \u001b[39m    Also plot if enabled.\u001b[39;00m\n\u001b[1;32m    338\u001b[0m \u001b[39m    \"\"\"\u001b[39;00m\n\u001b[0;32m--> 339\u001b[0m     img \u001b[39m=\u001b[39m \u001b[39mself\u001b[39;49m\u001b[39m.\u001b[39;49mt_s_camera()\n\u001b[1;32m    340\u001b[0m     \u001b[39m# plot rendered image\u001b[39;00m\n\u001b[1;32m    341\u001b[0m     \u001b[39mif\u001b[39;00m \u001b[39mnot\u001b[39;00m \u001b[39mself\u001b[39m\u001b[39m.\u001b[39m_render_closed:\n",
      "File \u001b[0;32m/usr/local/lib/python3.8/dist-packages/tactile_gym-0.0.1-py3.8.egg/tactile_gym/sensors/tactile_sensor.py:268\u001b[0m, in \u001b[0;36mTactileSensor.t_s_camera\u001b[0;34m(self)\u001b[0m\n\u001b[1;32m    262\u001b[0m \u001b[39m\u001b[39m\u001b[39m\"\"\"\u001b[39;00m\n\u001b[1;32m    263\u001b[0m \u001b[39mPull some images from the synthetic camera and manipulate them to become\u001b[39;00m\n\u001b[1;32m    264\u001b[0m \u001b[39mtacitle images.\u001b[39;00m\n\u001b[1;32m    265\u001b[0m \u001b[39m\"\"\"\u001b[39;00m\n\u001b[1;32m    267\u001b[0m \u001b[39m# get the current images\u001b[39;00m\n\u001b[0;32m--> 268\u001b[0m _, cur_dep, cur_mask \u001b[39m=\u001b[39m \u001b[39mself\u001b[39;49m\u001b[39m.\u001b[39;49mget_imgs()\n\u001b[1;32m    270\u001b[0m \u001b[39m# get the difference between current images and undeformed counterparts\u001b[39;00m\n\u001b[1;32m    271\u001b[0m diff_dep \u001b[39m=\u001b[39m np\u001b[39m.\u001b[39msubtract(cur_dep, \u001b[39mself\u001b[39m\u001b[39m.\u001b[39mno_deformation_dep)\n",
      "File \u001b[0;32m/usr/local/lib/python3.8/dist-packages/tactile_gym-0.0.1-py3.8.egg/tactile_gym/sensors/tactile_sensor.py:239\u001b[0m, in \u001b[0;36mTactileSensor.get_imgs\u001b[0;34m(self)\u001b[0m\n\u001b[1;32m    231\u001b[0m \u001b[39m# draw a line at these points for debugging\u001b[39;00m\n\u001b[1;32m    232\u001b[0m \u001b[39m# extended_cam_pos = self.camframe_pos + np.array(foward_vector)\u001b[39;00m\n\u001b[1;32m    233\u001b[0m \u001b[39m# extended_up_pos  = self.camframe_pos + np.array(up_vector)\u001b[39;00m\n\u001b[0;32m   (...)\u001b[0m\n\u001b[1;32m    236\u001b[0m \n\u001b[1;32m    237\u001b[0m \u001b[39m# projective texture runs faster but gives odd visuals\u001b[39;00m\n\u001b[1;32m    238\u001b[0m flags \u001b[39m=\u001b[39m \u001b[39mself\u001b[39m\u001b[39m.\u001b[39m_pb\u001b[39m.\u001b[39mER_SEGMENTATION_MASK_OBJECT_AND_LINKINDEX\n\u001b[0;32m--> 239\u001b[0m img_arr \u001b[39m=\u001b[39m \u001b[39mself\u001b[39;49m\u001b[39m.\u001b[39;49m_pb\u001b[39m.\u001b[39;49mgetCameraImage(\n\u001b[1;32m    240\u001b[0m     \u001b[39mself\u001b[39;49m\u001b[39m.\u001b[39;49mpixel_width,\n\u001b[1;32m    241\u001b[0m     \u001b[39mself\u001b[39;49m\u001b[39m.\u001b[39;49mpixel_height,\n\u001b[1;32m    242\u001b[0m     view_matrix,\n\u001b[1;32m    243\u001b[0m     \u001b[39mself\u001b[39;49m\u001b[39m.\u001b[39;49mprojection_matrix,\n\u001b[1;32m    244\u001b[0m     renderer\u001b[39m=\u001b[39;49m\u001b[39mself\u001b[39;49m\u001b[39m.\u001b[39;49m_pb\u001b[39m.\u001b[39;49mER_BULLET_HARDWARE_OPENGL,\n\u001b[1;32m    245\u001b[0m     flags\u001b[39m=\u001b[39;49mflags,\n\u001b[1;32m    246\u001b[0m )\n\u001b[1;32m    248\u001b[0m \u001b[39m# get images from returned array\u001b[39;00m\n\u001b[1;32m    249\u001b[0m w \u001b[39m=\u001b[39m img_arr[\u001b[39m0\u001b[39m]  \u001b[39m# width of the image, in pixels\u001b[39;00m\n",
      "\u001b[0;31mKeyboardInterrupt\u001b[0m: "
     ]
    }
   ],
   "source": [
    "def run_trial(gene,max_t,save=None):\n",
    "    dt=0.1\n",
    "    t=0\n",
    "    done=False\n",
    "    r_sum = 0\n",
    "    o, r, d, ep_ret, ep_len = env.reset(), 0, False, 0, 0\n",
    "    step = 0\n",
    "    sensor.set_genes(gene) #set the gene of the robot\n",
    "    while not done and t<=max_t: #loop till sturdy or out of time\n",
    "        tactile_input=np.reshape(o['tactile'],(128,128))\n",
    "        tactile_input=cv2.resize(tactile_input, dsize=(10,10), interpolation=cv2.INTER_AREA) #rescale\n",
    "        a=torch.sin(sensor.forward(tactile_input))[0] #push through tactile input into agent\n",
    "        # step the environment\n",
    "        o, r, d, info = env.step(a) #step through environment\n",
    "        #print(a,env.action_space.sample())\n",
    "        fit=new_fitness(tactile_input)\n",
    "        r_sum +=fit\n",
    "        if fit>=0.5: done=True #if it is sturdy\n",
    "        t+=dt #increase by timestep\n",
    "        if save!=None: save.append(env.render())\n",
    "    return r_sum, env.render() #we care about the last fitnesses as it should be sturdy\n",
    "\n",
    "def run_microbial(population,generations): #microbial algorithm trial\n",
    "    fitnesses=[0]\n",
    "    rendered=[]\n",
    "    bestInd=-1\n",
    "    r1=None\n",
    "    r2=None\n",
    "    try:\n",
    "        for i in range(generations):\n",
    "            clear_output()\n",
    "            print(\"GEN: \",i,\"REWARD: \",fitnesses[-1])\n",
    "            #select neighbouring genes\n",
    "            ind_1 = rnd.randint(0,len(population)-1)\n",
    "            ind_2=ind_1+1\n",
    "            if ind_2 >= len(population): ind_2=ind_1-1\n",
    "            #get two random positions\n",
    "            gene1=population[ind_1]\n",
    "            gene2=population[ind_2]\n",
    "            #run trials for 20 seconds in sim time\n",
    "            f1=0\n",
    "            for i in range(3): #run 3 trials to make sure there is no fluke\n",
    "                f,r1=run_trial(gene1,3)\n",
    "                f1+=f\n",
    "            fit1=f1/3 #get average performance\n",
    "            f2=0\n",
    "            for i in range(3): #run 3 trials for fluke\n",
    "                f,r1=run_trial(gene2,3)\n",
    "                f2+=f\n",
    "            fit2=f2/3\n",
    "            if fit1>fitnesses[-1] and fit1<fit2: \n",
    "                rendered.append(r1)\n",
    "                bestInd=ind_1\n",
    "            elif fit2>fitnesses[-1]:\n",
    "                rendered.append(r2)\n",
    "                bestInd=ind_2\n",
    "            fitnesses.append(max([fitnesses[-1],fit1,fit2]))\n",
    "            #selection\n",
    "            if fit1>fit2:\n",
    "                gene2=copy.deepcopy((gene1)) #crossover\n",
    "                population[ind_2]=copy.deepcopy(crossover(gene2,mutation(gene1)))\n",
    "            elif fit2>fit1:\n",
    "                gene1=copy.deepcopy((gene2)) #crossover\n",
    "                population[ind_1]=copy.deepcopy(crossover(gene1,mutation(gene2)))\n",
    "    except KeyboardInterrupt:\n",
    "        pass\n",
    "            \n",
    "    return fitnesses, rendered, bestInd\n",
    "GENERATIONS=300\n",
    "pop=gen_population()\n",
    "f,r,ind=run_microbial(pop,GENERATIONS)"
   ]
  },
  {
   "cell_type": "code",
   "execution_count": null,
   "metadata": {},
   "outputs": [
    {
     "name": "stdout",
     "output_type": "stream",
     "text": [
      "5\n"
     ]
    },
    {
     "ename": "TypeError",
     "evalue": "Image data of dtype object cannot be converted to float",
     "output_type": "error",
     "traceback": [
      "\u001b[0;31m---------------------------------------------------------------------------\u001b[0m",
      "\u001b[0;31mTypeError\u001b[0m                                 Traceback (most recent call last)",
      "Cell \u001b[0;32mIn[10], line 5\u001b[0m\n\u001b[1;32m      3\u001b[0m \u001b[39mfor\u001b[39;00m i \u001b[39min\u001b[39;00m \u001b[39mrange\u001b[39m(\u001b[39mlen\u001b[39m(r)):\n\u001b[1;32m      4\u001b[0m     plt\u001b[39m.\u001b[39mtitle(\u001b[39m\"\u001b[39m\u001b[39mBest at epoch\u001b[39m\u001b[39m\"\u001b[39m)\n\u001b[0;32m----> 5\u001b[0m     plt\u001b[39m.\u001b[39;49mimshow(r[i])\n\u001b[1;32m      6\u001b[0m     plt\u001b[39m.\u001b[39mshow()\n",
      "File \u001b[0;32m/usr/local/lib/python3.8/dist-packages/matplotlib-3.6.3-py3.8-linux-x86_64.egg/matplotlib/_api/deprecation.py:454\u001b[0m, in \u001b[0;36mmake_keyword_only.<locals>.wrapper\u001b[0;34m(*args, **kwargs)\u001b[0m\n\u001b[1;32m    448\u001b[0m \u001b[39mif\u001b[39;00m \u001b[39mlen\u001b[39m(args) \u001b[39m>\u001b[39m name_idx:\n\u001b[1;32m    449\u001b[0m     warn_deprecated(\n\u001b[1;32m    450\u001b[0m         since, message\u001b[39m=\u001b[39m\u001b[39m\"\u001b[39m\u001b[39mPassing the \u001b[39m\u001b[39m%(name)s\u001b[39;00m\u001b[39m \u001b[39m\u001b[39m%(obj_type)s\u001b[39;00m\u001b[39m \u001b[39m\u001b[39m\"\u001b[39m\n\u001b[1;32m    451\u001b[0m         \u001b[39m\"\u001b[39m\u001b[39mpositionally is deprecated since Matplotlib \u001b[39m\u001b[39m%(since)s\u001b[39;00m\u001b[39m; the \u001b[39m\u001b[39m\"\u001b[39m\n\u001b[1;32m    452\u001b[0m         \u001b[39m\"\u001b[39m\u001b[39mparameter will become keyword-only \u001b[39m\u001b[39m%(removal)s\u001b[39;00m\u001b[39m.\u001b[39m\u001b[39m\"\u001b[39m,\n\u001b[1;32m    453\u001b[0m         name\u001b[39m=\u001b[39mname, obj_type\u001b[39m=\u001b[39m\u001b[39mf\u001b[39m\u001b[39m\"\u001b[39m\u001b[39mparameter of \u001b[39m\u001b[39m{\u001b[39;00mfunc\u001b[39m.\u001b[39m\u001b[39m__name__\u001b[39m\u001b[39m}\u001b[39;00m\u001b[39m()\u001b[39m\u001b[39m\"\u001b[39m)\n\u001b[0;32m--> 454\u001b[0m \u001b[39mreturn\u001b[39;00m func(\u001b[39m*\u001b[39;49margs, \u001b[39m*\u001b[39;49m\u001b[39m*\u001b[39;49mkwargs)\n",
      "File \u001b[0;32m/usr/local/lib/python3.8/dist-packages/matplotlib-3.6.3-py3.8-linux-x86_64.egg/matplotlib/pyplot.py:2631\u001b[0m, in \u001b[0;36mimshow\u001b[0;34m(X, cmap, norm, aspect, interpolation, alpha, vmin, vmax, origin, extent, interpolation_stage, filternorm, filterrad, resample, url, data, **kwargs)\u001b[0m\n\u001b[1;32m   2625\u001b[0m \u001b[39m@_copy_docstring_and_deprecators\u001b[39m(Axes\u001b[39m.\u001b[39mimshow)\n\u001b[1;32m   2626\u001b[0m \u001b[39mdef\u001b[39;00m \u001b[39mimshow\u001b[39m(\n\u001b[1;32m   2627\u001b[0m         X, cmap\u001b[39m=\u001b[39m\u001b[39mNone\u001b[39;00m, norm\u001b[39m=\u001b[39m\u001b[39mNone\u001b[39;00m, aspect\u001b[39m=\u001b[39m\u001b[39mNone\u001b[39;00m, interpolation\u001b[39m=\u001b[39m\u001b[39mNone\u001b[39;00m,\n\u001b[1;32m   2628\u001b[0m         alpha\u001b[39m=\u001b[39m\u001b[39mNone\u001b[39;00m, vmin\u001b[39m=\u001b[39m\u001b[39mNone\u001b[39;00m, vmax\u001b[39m=\u001b[39m\u001b[39mNone\u001b[39;00m, origin\u001b[39m=\u001b[39m\u001b[39mNone\u001b[39;00m, extent\u001b[39m=\u001b[39m\u001b[39mNone\u001b[39;00m, \u001b[39m*\u001b[39m,\n\u001b[1;32m   2629\u001b[0m         interpolation_stage\u001b[39m=\u001b[39m\u001b[39mNone\u001b[39;00m, filternorm\u001b[39m=\u001b[39m\u001b[39mTrue\u001b[39;00m, filterrad\u001b[39m=\u001b[39m\u001b[39m4.0\u001b[39m,\n\u001b[1;32m   2630\u001b[0m         resample\u001b[39m=\u001b[39m\u001b[39mNone\u001b[39;00m, url\u001b[39m=\u001b[39m\u001b[39mNone\u001b[39;00m, data\u001b[39m=\u001b[39m\u001b[39mNone\u001b[39;00m, \u001b[39m*\u001b[39m\u001b[39m*\u001b[39mkwargs):\n\u001b[0;32m-> 2631\u001b[0m     __ret \u001b[39m=\u001b[39m gca()\u001b[39m.\u001b[39;49mimshow(\n\u001b[1;32m   2632\u001b[0m         X, cmap\u001b[39m=\u001b[39;49mcmap, norm\u001b[39m=\u001b[39;49mnorm, aspect\u001b[39m=\u001b[39;49maspect,\n\u001b[1;32m   2633\u001b[0m         interpolation\u001b[39m=\u001b[39;49minterpolation, alpha\u001b[39m=\u001b[39;49malpha, vmin\u001b[39m=\u001b[39;49mvmin,\n\u001b[1;32m   2634\u001b[0m         vmax\u001b[39m=\u001b[39;49mvmax, origin\u001b[39m=\u001b[39;49morigin, extent\u001b[39m=\u001b[39;49mextent,\n\u001b[1;32m   2635\u001b[0m         interpolation_stage\u001b[39m=\u001b[39;49minterpolation_stage,\n\u001b[1;32m   2636\u001b[0m         filternorm\u001b[39m=\u001b[39;49mfilternorm, filterrad\u001b[39m=\u001b[39;49mfilterrad, resample\u001b[39m=\u001b[39;49mresample,\n\u001b[1;32m   2637\u001b[0m         url\u001b[39m=\u001b[39;49murl, \u001b[39m*\u001b[39;49m\u001b[39m*\u001b[39;49m({\u001b[39m\"\u001b[39;49m\u001b[39mdata\u001b[39;49m\u001b[39m\"\u001b[39;49m: data} \u001b[39mif\u001b[39;49;00m data \u001b[39mis\u001b[39;49;00m \u001b[39mnot\u001b[39;49;00m \u001b[39mNone\u001b[39;49;00m \u001b[39melse\u001b[39;49;00m {}),\n\u001b[1;32m   2638\u001b[0m         \u001b[39m*\u001b[39;49m\u001b[39m*\u001b[39;49mkwargs)\n\u001b[1;32m   2639\u001b[0m     sci(__ret)\n\u001b[1;32m   2640\u001b[0m     \u001b[39mreturn\u001b[39;00m __ret\n",
      "File \u001b[0;32m/usr/local/lib/python3.8/dist-packages/matplotlib-3.6.3-py3.8-linux-x86_64.egg/matplotlib/_api/deprecation.py:454\u001b[0m, in \u001b[0;36mmake_keyword_only.<locals>.wrapper\u001b[0;34m(*args, **kwargs)\u001b[0m\n\u001b[1;32m    448\u001b[0m \u001b[39mif\u001b[39;00m \u001b[39mlen\u001b[39m(args) \u001b[39m>\u001b[39m name_idx:\n\u001b[1;32m    449\u001b[0m     warn_deprecated(\n\u001b[1;32m    450\u001b[0m         since, message\u001b[39m=\u001b[39m\u001b[39m\"\u001b[39m\u001b[39mPassing the \u001b[39m\u001b[39m%(name)s\u001b[39;00m\u001b[39m \u001b[39m\u001b[39m%(obj_type)s\u001b[39;00m\u001b[39m \u001b[39m\u001b[39m\"\u001b[39m\n\u001b[1;32m    451\u001b[0m         \u001b[39m\"\u001b[39m\u001b[39mpositionally is deprecated since Matplotlib \u001b[39m\u001b[39m%(since)s\u001b[39;00m\u001b[39m; the \u001b[39m\u001b[39m\"\u001b[39m\n\u001b[1;32m    452\u001b[0m         \u001b[39m\"\u001b[39m\u001b[39mparameter will become keyword-only \u001b[39m\u001b[39m%(removal)s\u001b[39;00m\u001b[39m.\u001b[39m\u001b[39m\"\u001b[39m,\n\u001b[1;32m    453\u001b[0m         name\u001b[39m=\u001b[39mname, obj_type\u001b[39m=\u001b[39m\u001b[39mf\u001b[39m\u001b[39m\"\u001b[39m\u001b[39mparameter of \u001b[39m\u001b[39m{\u001b[39;00mfunc\u001b[39m.\u001b[39m\u001b[39m__name__\u001b[39m\u001b[39m}\u001b[39;00m\u001b[39m()\u001b[39m\u001b[39m\"\u001b[39m)\n\u001b[0;32m--> 454\u001b[0m \u001b[39mreturn\u001b[39;00m func(\u001b[39m*\u001b[39;49margs, \u001b[39m*\u001b[39;49m\u001b[39m*\u001b[39;49mkwargs)\n",
      "File \u001b[0;32m/usr/local/lib/python3.8/dist-packages/matplotlib-3.6.3-py3.8-linux-x86_64.egg/matplotlib/__init__.py:1433\u001b[0m, in \u001b[0;36m_preprocess_data.<locals>.inner\u001b[0;34m(ax, data, *args, **kwargs)\u001b[0m\n\u001b[1;32m   1430\u001b[0m \u001b[39m@functools\u001b[39m\u001b[39m.\u001b[39mwraps(func)\n\u001b[1;32m   1431\u001b[0m \u001b[39mdef\u001b[39;00m \u001b[39minner\u001b[39m(ax, \u001b[39m*\u001b[39margs, data\u001b[39m=\u001b[39m\u001b[39mNone\u001b[39;00m, \u001b[39m*\u001b[39m\u001b[39m*\u001b[39mkwargs):\n\u001b[1;32m   1432\u001b[0m     \u001b[39mif\u001b[39;00m data \u001b[39mis\u001b[39;00m \u001b[39mNone\u001b[39;00m:\n\u001b[0;32m-> 1433\u001b[0m         \u001b[39mreturn\u001b[39;00m func(ax, \u001b[39m*\u001b[39;49m\u001b[39mmap\u001b[39;49m(sanitize_sequence, args), \u001b[39m*\u001b[39;49m\u001b[39m*\u001b[39;49mkwargs)\n\u001b[1;32m   1435\u001b[0m     bound \u001b[39m=\u001b[39m new_sig\u001b[39m.\u001b[39mbind(ax, \u001b[39m*\u001b[39margs, \u001b[39m*\u001b[39m\u001b[39m*\u001b[39mkwargs)\n\u001b[1;32m   1436\u001b[0m     auto_label \u001b[39m=\u001b[39m (bound\u001b[39m.\u001b[39marguments\u001b[39m.\u001b[39mget(label_namer)\n\u001b[1;32m   1437\u001b[0m                   \u001b[39mor\u001b[39;00m bound\u001b[39m.\u001b[39mkwargs\u001b[39m.\u001b[39mget(label_namer))\n",
      "File \u001b[0;32m/usr/local/lib/python3.8/dist-packages/matplotlib-3.6.3-py3.8-linux-x86_64.egg/matplotlib/axes/_axes.py:5610\u001b[0m, in \u001b[0;36mAxes.imshow\u001b[0;34m(self, X, cmap, norm, aspect, interpolation, alpha, vmin, vmax, origin, extent, interpolation_stage, filternorm, filterrad, resample, url, **kwargs)\u001b[0m\n\u001b[1;32m   5602\u001b[0m \u001b[39mself\u001b[39m\u001b[39m.\u001b[39mset_aspect(aspect)\n\u001b[1;32m   5603\u001b[0m im \u001b[39m=\u001b[39m mimage\u001b[39m.\u001b[39mAxesImage(\u001b[39mself\u001b[39m, cmap\u001b[39m=\u001b[39mcmap, norm\u001b[39m=\u001b[39mnorm,\n\u001b[1;32m   5604\u001b[0m                       interpolation\u001b[39m=\u001b[39minterpolation, origin\u001b[39m=\u001b[39morigin,\n\u001b[1;32m   5605\u001b[0m                       extent\u001b[39m=\u001b[39mextent, filternorm\u001b[39m=\u001b[39mfilternorm,\n\u001b[1;32m   5606\u001b[0m                       filterrad\u001b[39m=\u001b[39mfilterrad, resample\u001b[39m=\u001b[39mresample,\n\u001b[1;32m   5607\u001b[0m                       interpolation_stage\u001b[39m=\u001b[39minterpolation_stage,\n\u001b[1;32m   5608\u001b[0m                       \u001b[39m*\u001b[39m\u001b[39m*\u001b[39mkwargs)\n\u001b[0;32m-> 5610\u001b[0m im\u001b[39m.\u001b[39;49mset_data(X)\n\u001b[1;32m   5611\u001b[0m im\u001b[39m.\u001b[39mset_alpha(alpha)\n\u001b[1;32m   5612\u001b[0m \u001b[39mif\u001b[39;00m im\u001b[39m.\u001b[39mget_clip_path() \u001b[39mis\u001b[39;00m \u001b[39mNone\u001b[39;00m:\n\u001b[1;32m   5613\u001b[0m     \u001b[39m# image does not already have clipping set, clip to axes patch\u001b[39;00m\n",
      "File \u001b[0;32m/usr/local/lib/python3.8/dist-packages/matplotlib-3.6.3-py3.8-linux-x86_64.egg/matplotlib/image.py:701\u001b[0m, in \u001b[0;36m_ImageBase.set_data\u001b[0;34m(self, A)\u001b[0m\n\u001b[1;32m    697\u001b[0m \u001b[39mself\u001b[39m\u001b[39m.\u001b[39m_A \u001b[39m=\u001b[39m cbook\u001b[39m.\u001b[39msafe_masked_invalid(A, copy\u001b[39m=\u001b[39m\u001b[39mTrue\u001b[39;00m)\n\u001b[1;32m    699\u001b[0m \u001b[39mif\u001b[39;00m (\u001b[39mself\u001b[39m\u001b[39m.\u001b[39m_A\u001b[39m.\u001b[39mdtype \u001b[39m!=\u001b[39m np\u001b[39m.\u001b[39muint8 \u001b[39mand\u001b[39;00m\n\u001b[1;32m    700\u001b[0m         \u001b[39mnot\u001b[39;00m np\u001b[39m.\u001b[39mcan_cast(\u001b[39mself\u001b[39m\u001b[39m.\u001b[39m_A\u001b[39m.\u001b[39mdtype, \u001b[39mfloat\u001b[39m, \u001b[39m\"\u001b[39m\u001b[39msame_kind\u001b[39m\u001b[39m\"\u001b[39m)):\n\u001b[0;32m--> 701\u001b[0m     \u001b[39mraise\u001b[39;00m \u001b[39mTypeError\u001b[39;00m(\u001b[39m\"\u001b[39m\u001b[39mImage data of dtype \u001b[39m\u001b[39m{}\u001b[39;00m\u001b[39m cannot be converted to \u001b[39m\u001b[39m\"\u001b[39m\n\u001b[1;32m    702\u001b[0m                     \u001b[39m\"\u001b[39m\u001b[39mfloat\u001b[39m\u001b[39m\"\u001b[39m\u001b[39m.\u001b[39mformat(\u001b[39mself\u001b[39m\u001b[39m.\u001b[39m_A\u001b[39m.\u001b[39mdtype))\n\u001b[1;32m    704\u001b[0m \u001b[39mif\u001b[39;00m \u001b[39mself\u001b[39m\u001b[39m.\u001b[39m_A\u001b[39m.\u001b[39mndim \u001b[39m==\u001b[39m \u001b[39m3\u001b[39m \u001b[39mand\u001b[39;00m \u001b[39mself\u001b[39m\u001b[39m.\u001b[39m_A\u001b[39m.\u001b[39mshape[\u001b[39m-\u001b[39m\u001b[39m1\u001b[39m] \u001b[39m==\u001b[39m \u001b[39m1\u001b[39m:\n\u001b[1;32m    705\u001b[0m     \u001b[39m# If just one dimension assume scalar and apply colormap\u001b[39;00m\n\u001b[1;32m    706\u001b[0m     \u001b[39mself\u001b[39m\u001b[39m.\u001b[39m_A \u001b[39m=\u001b[39m \u001b[39mself\u001b[39m\u001b[39m.\u001b[39m_A[:, :, \u001b[39m0\u001b[39m]\n",
      "\u001b[0;31mTypeError\u001b[0m: Image data of dtype object cannot be converted to float"
     ]
    },
    {
     "data": {
      "image/png": "[encoded data removed]",
      "text/plain": [
       "<Figure size 640x480 with 1 Axes>"
      ]
     },
     "metadata": {},
     "output_type": "display_data"
    }
   ],
   "source": [
    "\n",
    "print(len(r))\n",
    "for i in range(len(r)):\n",
    "    plt.title(\"Best at epoch\")\n",
    "    plt.imshow(r[i])\n",
    "    plt.show()\n"
   ]
  },
  {
   "attachments": {},
   "cell_type": "markdown",
   "metadata": {},
   "source": [
    "What live demo of the best genotype"
   ]
  },
  {
   "cell_type": "code",
   "execution_count": null,
   "metadata": {},
   "outputs": [],
   "source": [
    "\n",
    "arr=[]\n",
    "best=0\n",
    "best_ind=0\n",
    "for ind in range(len(pop)):\n",
    "    arr_=[]\n",
    "    f,r=run_trial(pop[ind],3,save=arr_)\n",
    "    if f>best:\n",
    "        best=f\n",
    "        best_ind=ind\n",
    "        arr=copy.deepcopy(arr_)\n"
   ]
  },
  {
   "cell_type": "code",
   "execution_count": null,
   "metadata": {},
   "outputs": [],
   "source": [
    "arr=[]\n",
    "f,r=run_trial(pop[best_ind],10,save=arr)"
   ]
  },
  {
   "attachments": {},
   "cell_type": "markdown",
   "metadata": {},
   "source": [
    "Saving the demo"
   ]
  },
  {
   "cell_type": "code",
   "execution_count": null,
   "metadata": {},
   "outputs": [],
   "source": [
    "import cv2 as cv\n",
    "h,w=arr[0].shape[:2]\n",
    "out = cv.VideoWriter('./Gym_tactip.avi',cv.VideoWriter_fourcc(*'DIVX'), 15, (w,h))\n",
    "#gen vid\n",
    "for i,j in enumerate(arr):\n",
    "    out.write(j)\n",
    "out.release()"
   ]
  }
 ],
 "metadata": {
  "kernelspec": {
   "display_name": "Python 3",
   "language": "python",
   "name": "python3"
  },
  "language_info": {
   "codemirror_mode": {
    "name": "ipython",
    "version": 3
   },
   "file_extension": ".py",
   "mimetype": "text/x-python",
   "name": "python",
   "nbconvert_exporter": "python",
   "pygments_lexer": "ipython3",
   "version": "3.8.10"
  },
  "orig_nbformat": 4,
  "vscode": {
   "interpreter": {
    "hash": "916dbcbb3f70747c44a77c7bcd40155683ae19c65e1c03b4aa3499c5328201f1"
   }
  }
 },
 "nbformat": 4,
 "nbformat_minor": 2
}
