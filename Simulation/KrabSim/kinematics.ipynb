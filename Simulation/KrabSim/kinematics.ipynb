{
 "cells": [
  {
   "cell_type": "code",
   "execution_count": 1,
   "metadata": {},
   "outputs": [],
   "source": [
    "import gym\n",
    "import gym_kraby\n",
    "import math as maths\n",
    "import numpy as np\n",
    "import matplotlib.pyplot as plt\n",
    "from IPython.display import clear_output\n",
    "from copy import deepcopy as DC\n",
    "clear_output()"
   ]
  },
  {
   "cell_type": "code",
   "execution_count": 2,
   "metadata": {},
   "outputs": [],
   "source": [
    "class hexapod:\n",
    "    def __init__(self):\n",
    "        self.env= gym.make('gym_kraby:HexapodBulletEnv-v0', render=True)\n",
    "        obs=self.env.reset()\n",
    "        self.action_space=self.env.action_space.sample()  # take a random action\n",
    "        self.sensors={\"foot_0\":4,\"endcap_0\":5,\"foot_1\":10,\"endcap_1\":11,\n",
    "            \"foot_2\":16,\"endcap_2\": 17,\"foot_3\": 22,\"endcap_3\": 23,\n",
    "            \"foot_4\": 28,\"endcap_4\": 29,\"foot_5\": 34,\"endcap_5\":35}\n",
    "    def list_feet(self):\n",
    "        _link_name_to_index = {self.env.p.getBodyInfo(self.env.robot_id)[0].decode('UTF-8'):-1,}\n",
    "        for _id in range(self.env.p.getNumJoints(self.env.robot_id)):\n",
    "            _name = self.env.p.getJointInfo(self.env.robot_id, _id)[12].decode('UTF-8')\n",
    "            _link_name_to_index[_name] = _id\n",
    "            if \"endcap\" in _name or \"foot\" in _name:\n",
    "                print(_name,_id)\n",
    "    def reset(self):\n",
    "        obs=self.env.reset()\n",
    "    def step(self,a):\n",
    "        \"\"\"\n",
    "        step through environment with action a\n",
    "        return reward and the force on the feet that are contacted numbered 0-5 for each leg\n",
    "        \"\"\"\n",
    "        observation, reward, done, _ = self.env.step(a)  # step\n",
    "        filtered=self.getContact()\n",
    "        return reward,filtered\n",
    "    def getAngles(self):\n",
    "        a=[self.getAngle(i) for i in range(18)]\n",
    "        return np.array(a)\n",
    "    def getContact(self):\n",
    "        VALS=np.array([[5,4],[11,10],[17,16],[23,22],[29,28],[35,34]])\n",
    "        contact=self.env.p.getContactPoints(bodyA=self.env.robot_id)\n",
    "        a_=np.array([[5,0],[11,0],[17,0],[23,0],[29,0],[35,0]])\n",
    "        for c in contact:\n",
    "            p=c[3]\n",
    "            f=c[9]\n",
    "            if p in VALS.flatten():\n",
    "                id=np.where(VALS == p)\n",
    "                id=[id[0],id[1]][0]\n",
    "                if a_[id[0]][0]==p: a_[id[0]][1]=f\n",
    "                elif a_[id[0]][1]<f: #largest force saves\n",
    "                    a_[id[0]][0]=p\n",
    "                    a_[id[0]][1]=f\n",
    "        return a_\n",
    "    def getAngle(self,num):\n",
    "        JOINT=[1,2,4,7,8,10,13,14,16,19,20,22,25,26,28,31,32,34]\n",
    "        b=self.env.p.getJointState(self.env.robot_id,JOINT[num])\n",
    "        d=b[0]#convert to degrees\n",
    "        return (maths.pi/2)+d\n",
    "    def getImage(self):\n",
    "        img = self.env.p.getCameraImage(224, 224, renderer=self.env.p.ER_BULLET_HARDWARE_OPENGL)\n",
    "        return img[2]\n",
    "    def close(self):\n",
    "        self.env.close()\n",
    "    def moveAngles(self,ang):\n",
    "        for j in range(5): #for accuracy do multiple times\n",
    "            mov=np.zeros_like(ang)\n",
    "            angles=self.getAngles()\n",
    "            for i in range(len(mov)):\n",
    "                mov[i]=self.moveToAngle(ang[i],angles[i])\n",
    "            self.step(mov)\n",
    "            print(np.rad2deg(self.getAngles()))\n",
    "    def moveToAngle(self,start,to):\n",
    "        end=start-to\n",
    "        k=1/np.deg2rad(18)\n",
    "        return end*k\n",
    "    "
   ]
  },
  {
   "cell_type": "code",
   "execution_count": 3,
   "metadata": {},
   "outputs": [
    {
     "name": "stderr",
     "output_type": "stream",
     "text": [
      "pybullet build time: Jan 20 2023 16:26:58\n"
     ]
    },
    {
     "name": "stdout",
     "output_type": "stream",
     "text": [
      "startThreads creating 1 threads.\n",
      "starting thread 0\n",
      "started thread 0 \n",
      "argc=2\n",
      "argv[0] = --unused\n",
      "argv[1] = --start_demo_name=Physics Server\n",
      "ExampleBrowserThreadFunc started\n",
      "X11 functions dynamically loaded using dlopen/dlsym OK!\n",
      "X11 functions dynamically loaded using dlopen/dlsym OK!\n",
      "Creating context\n",
      "Created GL 3.3 context\n",
      "Direct GLX rendering context obtained\n",
      "Making context current\n",
      "GL_VENDOR=NVIDIA Corporation\n",
      "GL_RENDERER=Quadro P620/PCIe/SSE2\n",
      "GL_VERSION=3.3.0 NVIDIA 525.105.17\n",
      "GL_SHADING_LANGUAGE_VERSION=3.30 NVIDIA via Cg compiler\n",
      "pthread_getconcurrency()=0\n",
      "Version = 3.3.0 NVIDIA 525.105.17\n",
      "Vendor = NVIDIA Corporation\n",
      "Renderer = Quadro P620/PCIe/SSE2\n",
      "b3Printf: Selected demo: Physics Server\n",
      "startThreads creating 1 threads.\n",
      "starting thread 0\n",
      "started thread 0 \n",
      "MotionThreadFunc thread started\n",
      "ven = NVIDIA Corporation\n",
      "ven = NVIDIA Corporation\n"
     ]
    }
   ],
   "source": [
    "robot=hexapod()\n"
   ]
  },
  {
   "cell_type": "code",
   "execution_count": 250,
   "metadata": {},
   "outputs": [
    {
     "name": "stdout",
     "output_type": "stream",
     "text": [
      "[ 79.96637145  80.0134692   80.01217463  79.9909567   79.98308702\n",
      "  80.0839925   79.99054609  80.02917669  78.95468758  79.96874893\n",
      "  79.93291959 125.16445046  79.99729097  79.999574    79.98950613\n",
      "  79.99288102  80.01193171  80.00275042]\n",
      "[ 79.98517232  79.98177717  79.61811557  80.01519184  79.99715476\n",
      "  79.11073484  80.01296625  79.99970453  79.9793855   79.9955591\n",
      "  79.86587388 114.30090651  79.99562944  80.01454492  79.98798585\n",
      "  79.99039846  80.00619563  79.99882738]\n",
      "[ 80.01908369  80.0001314   79.49035416  80.05380281  80.01668494\n",
      "  78.95572599  80.0040594   79.98313437  79.27920662  79.94089363\n",
      "  80.03183491 110.53133025  79.99796062  79.99015003  80.01249628\n",
      "  79.97749141  79.99871704  79.80012664]\n",
      "[ 80.02708232  79.97433709  79.19870841  80.06992494  80.00951033\n",
      "  78.63683782  80.02287385  80.00775542  80.20084241  79.9883869\n",
      "  80.09096281 113.88840957  79.99754387  80.01452858  79.99207977\n",
      "  80.00663958  80.00126884  79.80180928]\n",
      "[ 80.00304305  79.97851869  79.6890985   80.02775177  80.00350054\n",
      "  79.20785393  80.03668171  80.00380099  80.23476869  79.98541694\n",
      "  80.11406847 112.26336215  79.99465892  80.01740313  79.97997723\n",
      "  79.98827986  80.0014263   79.78145647]\n"
     ]
    }
   ],
   "source": [
    "def moveToAngle(start,to):\n",
    "    end=start-to\n",
    "    k=1/np.deg2rad(18)\n",
    "    return end*k\n",
    "    \n",
    "def moveAngles(ang):\n",
    "    for j in range(5): #for accuracy do multiple times\n",
    "        mov=np.zeros_like(ang)\n",
    "        angles=robot.getAngles()\n",
    "        for i in range(len(mov)):\n",
    "            mov[i]=moveToAngle(ang[i],angles[i])\n",
    "        robot.step(mov)\n",
    "        print(np.rad2deg(robot.getAngles()))\n",
    "    \n",
    "\n",
    "\n",
    "act=np.ones_like(robot.action_space)*np.deg2rad(80)\n",
    "moveAngles(act)\n"
   ]
  },
  {
   "cell_type": "code",
   "execution_count": 240,
   "metadata": {},
   "outputs": [
    {
     "name": "stdout",
     "output_type": "stream",
     "text": [
      "40.16900295896962 > 99.83099704103037\n",
      "40.16900295896962 309.93740422834196\n",
      "129.23612972589532 > 10.763870274104658\n",
      "129.23612972589532 33.41773708656307\n"
     ]
    }
   ],
   "source": [
    "def moveToAngle(start,to):\n",
    "    end=to-start\n",
    "    print(np.rad2deg(start),\">\",np.rad2deg(end))\n",
    "    k=1/np.deg2rad(18.455)\n",
    "    return end*k\n",
    "\n",
    "new=moveToAngle(angles[1],np.deg2rad(140))\n",
    "print(np.rad2deg(angles[1]),np.rad2deg((new)))\n",
    "act=np.zeros_like(act)\n",
    "act[1]=new\n",
    "robot.step(act)\n",
    "angles=robot.getAngles()\n",
    "new=moveToAngle(angles[1],np.deg2rad(140))\n",
    "print(np.rad2deg(angles[1]),np.rad2deg((new)))"
   ]
  },
  {
   "cell_type": "code",
   "execution_count": 171,
   "metadata": {},
   "outputs": [],
   "source": [
    "robot.reset()\n",
    "angles=robot.getAngles()\n",
    "moveBy=10\n",
    "a=angles[1]\n",
    "b=angles[2]\n",
    "act=np.ones_like(robot.action_space) * 1\n",
    "#act[2]=moveToAngle(b,np.deg2rad(20))\n",
    "#act=act*-np.pi/2\n",
    "print(np.rad2deg(a),np.rad2deg(b),np.rad2deg(moveToAngle(a,np.deg2rad(20))))\n",
    "z=robot.step(act)\n",
    "angles=robot.getAngles()\n",
    "c=angles[1]\n",
    "d=angles[2]\n",
    "print(np.rad2deg(c),np.rad2deg(d))\n",
    "print(np.rad2deg(c-a),np.rad2deg(d-b))"
   ]
  }
 ],
 "metadata": {
  "kernelspec": {
   "display_name": "Python 3",
   "language": "python",
   "name": "python3"
  },
  "language_info": {
   "codemirror_mode": {
    "name": "ipython",
    "version": 3
   },
   "file_extension": ".py",
   "mimetype": "text/x-python",
   "name": "python",
   "nbconvert_exporter": "python",
   "pygments_lexer": "ipython3",
   "version": "3.8.10"
  },
  "orig_nbformat": 4,
  "vscode": {
   "interpreter": {
    "hash": "916dbcbb3f70747c44a77c7bcd40155683ae19c65e1c03b4aa3499c5328201f1"
   }
  }
 },
 "nbformat": 4,
 "nbformat_minor": 2
}
