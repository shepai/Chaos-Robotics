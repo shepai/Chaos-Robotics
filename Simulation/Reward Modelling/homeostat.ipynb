{
 "cells": [
  {
   "cell_type": "code",
   "execution_count": 3,
   "metadata": {},
   "outputs": [],
   "source": [
    "import numpy as np\n",
    "import matplotlib.pyplot as plt\n",
    "import math as maths\n",
    "import random as rnd"
   ]
  },
  {
   "cell_type": "markdown",
   "metadata": {},
   "source": [
    "## Modelling the homeostat"
   ]
  },
  {
   "cell_type": "code",
   "execution_count": 25,
   "metadata": {},
   "outputs": [
    {
     "name": "stdout",
     "output_type": "stream",
     "text": [
      "249.03340675645794\n"
     ]
    },
    {
     "data": {
      "image/png": "[encoded data removed]",
      "text/plain": [
       "<Figure size 200x100 with 1 Axes>"
      ]
     },
     "metadata": {},
     "output_type": "display_data"
    }
   ],
   "source": [
    "h=1\n",
    "j=1\n",
    "#weights\n",
    "a=np.random.normal(5,0.5,(5,5))\n",
    "#random initial input\n",
    "x=rnd.randint(0,10)\n",
    "#equations \n",
    "x=h*np.sum(a*x)-j*x\n",
    "print(x)\n",
    "\n",
    "\n",
    "#larger plotting\n",
    "steps=10\n",
    "xs=np.zeros((steps-1,))\n",
    "\n",
    "for i in range(1,steps):\n",
    "    x=i\n",
    "    xs[i-1]=h*np.sum(a*x)-j*x\n",
    "plt.figure(figsize=(2,1))\n",
    "plt.plot([i for i in range(1,steps)],xs)\n",
    "plt.show()"
   ]
  }
 ],
 "metadata": {
  "kernelspec": {
   "display_name": "Python 3.9.13 ('base')",
   "language": "python",
   "name": "python3"
  },
  "language_info": {
   "codemirror_mode": {
    "name": "ipython",
    "version": 3
   },
   "file_extension": ".py",
   "mimetype": "text/x-python",
   "name": "python",
   "nbconvert_exporter": "python",
   "pygments_lexer": "ipython3",
   "version": "3.9.13"
  },
  "orig_nbformat": 4,
  "vscode": {
   "interpreter": {
    "hash": "61ce7a4d0aa492588b47984da5d2f37584f39edf33c1556a3be1b6d985df9f7b"
   }
  }
 },
 "nbformat": 4,
 "nbformat_minor": 2
}
